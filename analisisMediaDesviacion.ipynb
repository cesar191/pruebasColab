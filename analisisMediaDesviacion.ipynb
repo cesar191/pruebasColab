{
  "nbformat": 4,
  "nbformat_minor": 0,
  "metadata": {
    "colab": {
      "provenance": [],
      "authorship_tag": "ABX9TyM2QB0WkBqeAIcMm10PRwjy",
      "include_colab_link": true
    },
    "kernelspec": {
      "name": "python3",
      "display_name": "Python 3"
    },
    "language_info": {
      "name": "python"
    }
  },
  "cells": [
    {
      "cell_type": "markdown",
      "metadata": {
        "id": "view-in-github",
        "colab_type": "text"
      },
      "source": [
        "<a href=\"https://colab.research.google.com/github/cesar191/pruebasColab/blob/main/analisisMediaDesviacion.ipynb\" target=\"_parent\"><img src=\"https://colab.research.google.com/assets/colab-badge.svg\" alt=\"Open In Colab\"/></a>"
      ]
    },
    {
      "cell_type": "markdown",
      "source": [
        "#Actividad\n",
        "\n",
        "Como el problema nos plantea Dos problemas los cuales son:\n",
        "1. Comprobar que la media sea aproximadamente 0\n",
        "2. Comprobar que la desviación sea aproximadamente 1\n",
        "\n"
      ],
      "metadata": {
        "id": "4yS2VWoyR0-r"
      }
    },
    {
      "cell_type": "markdown",
      "source": [
        "##Solución del Problema\n"
      ],
      "metadata": {
        "id": "KhJLMQpfSlu6"
      }
    },
    {
      "cell_type": "markdown",
      "source": [
        "### Problema 1\n",
        "Para la solución de este problema se analizo que cuando se toma una muestra que tengan una gran catidad de 0 a comparación a los otros valores tomados, su media tendera a tener un valor aproximado a cero. \n",
        "  1. Ejemplo: \n",
        "  - Cuando se califica un producto de 0 a 5 por el grado de satisfacción y en su mayoria dieron un 0, demostrando que no les gustaba el producto, o lo que tocaba calificar"
      ],
      "metadata": {
        "id": "beONgQkvXCva"
      }
    },
    {
      "cell_type": "code",
      "execution_count": 39,
      "metadata": {
        "colab": {
          "base_uri": "https://localhost:8080/"
        },
        "id": "VsFFaziPPzTt",
        "outputId": "12c3aade-d869-4964-d7a2-534d8cdc99bd"
      },
      "outputs": [
        {
          "output_type": "stream",
          "name": "stdout",
          "text": [
            "media=  0.3594\n"
          ]
        }
      ],
      "source": [
        "import random\n",
        "#datos\n",
        "muestra=[5,0,0,0,0,0,0,0,0,0,0,0,0,0]#valores de la muestra donde su calificación es mayormente cero\n",
        "repeticiones = 100000\n",
        "suma=0 \n",
        "#genero el numero del dado a la azar\n",
        "for i in range(repeticiones):\n",
        "    valores=random.choice(muestra)\n",
        "    suma=suma+valores\n",
        "media=suma/repeticiones\n",
        "print('media= ',media)\n"
      ]
    },
    {
      "cell_type": "markdown",
      "source": [
        "### Problema 2\n",
        " para la solución de este problema se analizo que cuando se toma una muestra que tengan una variación entre sus muestra de un digito este se aproximara a uno.\n",
        "  1. ejermplo: \n",
        "  - un ejemplo seria cuando se califica un producto de 1 a 5 por el grado de satisfacción y en cada una de las calificaciones hubo una proporcionalidad de 3 a 5 que resulta en una desviación aproximada de uno"
      ],
      "metadata": {
        "id": "eqNzqMBUSgyq"
      }
    },
    {
      "cell_type": "code",
      "source": [
        "from numpy.ma.core import sqrt\n",
        "import random\n",
        "\n",
        "repeticiones = 100000\n",
        "muestra=[3,5,3,5,3,5,3,5]#valores de la muestra donde su calificación son cercanas\n",
        "pruebas=[]\n",
        "sumaMed=0\n",
        "sumaDes=0\n",
        "#genero el numeros a la hazar\n",
        "for i in range(repeticiones):\n",
        "    valores=random.choice(muestra)\n",
        "    pruebas.append(valores)\n",
        "    sumaMed=sumaMed+valores\n",
        "media=sumaMed/repeticiones\n",
        "print('media= ',media)\n",
        "for i in pruebas:\n",
        "  sumaDes=sumaDes+sqrt((i-media)**2)\n",
        "desviacion=sumaDes/repeticiones\n",
        "print('desviación= ',desviacion)"
      ],
      "metadata": {
        "colab": {
          "base_uri": "https://localhost:8080/"
        },
        "id": "KxPzKLfmRLF9",
        "outputId": "172473bb-099d-4cbf-f1cc-41516a185803"
      },
      "execution_count": 41,
      "outputs": [
        {
          "output_type": "stream",
          "name": "stdout",
          "text": [
            "media=  4.00312\n",
            "desviación=  0.9999902656000169\n"
          ]
        }
      ]
    }
  ]
}